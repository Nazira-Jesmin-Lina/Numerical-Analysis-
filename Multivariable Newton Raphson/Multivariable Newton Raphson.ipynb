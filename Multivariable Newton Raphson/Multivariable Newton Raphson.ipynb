{
  "nbformat": 4,
  "nbformat_minor": 0,
  "metadata": {
    "colab": {
      "provenance": []
    },
    "kernelspec": {
      "name": "python3",
      "display_name": "Python 3"
    },
    "language_info": {
      "name": "python"
    }
  },
  "cells": [
    {
      "cell_type": "code",
      "execution_count": 20,
      "metadata": {
        "colab": {
          "base_uri": "https://localhost:8080/"
        },
        "id": "Rf1AAhP-M9nQ",
        "outputId": "a4d327b0-c92a-4962-d571-474612f6a784"
      },
      "outputs": [
        {
          "output_type": "stream",
          "name": "stdout",
          "text": [
            " iter: 0   | x: 1.0 | y: 2.0 | z:3.0 | \n",
            " iter: 1   | x: 0.10256410256410231 | y: 1.6410256410256412 | z:2.5641025641025643 | \n",
            " iter: 2   | x: 1.520623310345624 | y: 1.4111292090922747 | z:0.19858998983897358 | \n",
            " iter: 3   | x: 1.9412341363606642 | y: 0.7713427379813469 | z:0.8946511233095373 | \n",
            " iter: 4   | x: 1.0673663982031694 | y: 1.1911706539925035 | z:0.4835254556850301 | \n",
            " iter: 5   | x: 1.2682542994753785 | y: 0.951821528602657 | z:0.8802806387960872 | \n",
            " iter: 6   | x: 0.9589875292981889 | y: 1.033835920406242 | z:0.9681264374765458 | \n",
            " iter: 7   | x: 1.0017129705084251 | y: 1.0000703921137792 | z:0.9971781492230924 | \n",
            " iter: 8   | x: 1.0000014991122133 | y: 1.0000014900240177 | z:1.000000046170665 | \n",
            "\n",
            "The final root is: (0.999999999992267, 1.0000000000056117, 1.0000000000067562)\n"
          ]
        }
      ],
      "source": [
        "import numpy as np\n",
        "\n",
        "def f(x, y, z):\n",
        "    eq1 = x**2 - 2*x + y**2 - z + 1\n",
        "    eq2 = x*y**2 - x - 3*y + y*z + 2\n",
        "    eq3 = x*z**2 - 3*z + y*z**2 + x*y\n",
        "    return np.array([eq1, eq2, eq3])\n",
        "\n",
        "def J_mat(x, y, z):\n",
        "    dfdx = 2*x - 2\n",
        "    dfdy = 2*y\n",
        "    dfdz = -1\n",
        "    dgdx = y**2 - 1\n",
        "    dgdy = 2*x*y - 3 + z\n",
        "    dgdz = y\n",
        "    dhdx = z**2 + y\n",
        "    dhdy = z**2+x\n",
        "    dhdz =  2*x*z-3+2*y*z\n",
        "\n",
        "    J = np.array([\n",
        "        [dfdx, dfdy, dfdz],\n",
        "        [dgdx, dgdy, dgdz],\n",
        "        [dhdx, dhdy, dhdz]\n",
        "    ])\n",
        "\n",
        "    return J\n",
        "\n",
        "\n",
        "\n",
        "tolerance=1e-6\n",
        "x0 =x= np.array([1.0, 2.0, 3.0])\n",
        "iter = 10000\n",
        "\n",
        "\n",
        "for i in range(iter):\n",
        "    qq=0\n",
        "    J_mat_INV=np.linalg.inv(J_mat(x[0],x[1],x[2]))\n",
        "    flag=1\n",
        "    tmp= np.dot( J_mat_INV,f(x[0],x[1],x[2]))\n",
        "    print(f\" iter: {i}   | x: {x[0]} | y: {x[1]} | z:{x[2]} | \")\n",
        "    x=x-tmp\n",
        "    s=f(1,2,3)\n",
        "    J_mat_INV=0\n",
        "    flag=flag+1\n",
        "    if np.allclose(f(x[0],x[1],x[2]),\n",
        "                    np.array([0, 0, 0]),\n",
        "                    atol=tolerance):\n",
        "       c=0\n",
        "       print(f\"\\nThe final root is: {x[0],x[1],x[2]}\")\n",
        "       break"
      ]
    }
  ]
}